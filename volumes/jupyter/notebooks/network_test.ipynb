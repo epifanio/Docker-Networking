{
 "cells": [
  {
   "cell_type": "markdown",
   "metadata": {},
   "source": [
    "# Docker environment"
   ]
  },
  {
   "cell_type": "markdown",
   "metadata": {
    "pycharm": {
     "name": "#%% md\n"
    }
   },
   "source": [
    "This notebook shows the behaviour of <b><u>internal docker networking</u></b> when accessing services using the docker service name.\n",
    "\n",
    "\n",
    "This docker environment starts 4 different services:\n",
    "* `apache`: Apache web server\n",
    "* `hyrax`: Hyrax OpenDAP service\n",
    "* `pydap`: PyDAP OpenDAP service\n",
    "* `jupyter`: Jupyter Notebook\n",
    "\n",
    "The `docker-compose.yml` is where you find the service name used internally by Docker when accessing the network services.\n",
    "\n",
    "\n",
    "```yaml\n",
    "version: '3.5'\n",
    "services:\n",
    "  apache:\n",
    "    container_name: apache2\n",
    "    image: epinux/apache2-php72\n",
    "    build:\n",
    "      context: ./apache/\n",
    "      dockerfile: Dockerfile\n",
    "    ports:\n",
    "      - \"80:80\"\n",
    "    volumes:\n",
    "      - ./volumes/apache2/data:/var/www/html/\n",
    "      - ./volumes/apache2/conf/httpd.conf:/etc/apache2/apache2.conf\n",
    "    restart: unless-stopped\n",
    "\n",
    "  hyrax:\n",
    "    container_name: hyrax\n",
    "    image: opendap/hyrax:latest\n",
    "    ports:\n",
    "      - \"8080:8080\"\n",
    "    volumes:\n",
    "      - ./volumes/apache2/data:/usr/share/hyrax\n",
    "\n",
    "  pydap:\n",
    "    container_name: pydap\n",
    "    image: epinux/metsis-pydap\n",
    "    ports:\n",
    "      - \"9090:80\"\n",
    "    volumes:\n",
    "      - ./volumes/apache2/data:/var/www/sites/pydap/server/data\n",
    "    restart: unless-stopped\n",
    "\n",
    "  jupyter:\n",
    "    container_name: jupyter\n",
    "    image: epinux/jupyter-base\n",
    "    build:\n",
    "      context: ./jupyter/\n",
    "      dockerfile: Dockerfile\n",
    "    ports:\n",
    "      - \"8888:8888\"\n",
    "    volumes:\n",
    "      - ./volumes/jupyter/notebooks:/home/jovyan/work\n",
    "    restart: unless-stopped\n",
    "```\n",
    "\n"
   ]
  },
  {
   "cell_type": "markdown",
   "metadata": {
    "pycharm": {
     "name": "#%% md\n"
    }
   },
   "source": [
    "# Example data access\n",
    "\n",
    "\n",
    "There are few example netcdf dataset in the `volume` directory under: \n",
    "\n",
    "* `/volumes/apache2/data`\n",
    "\n",
    "which are served by both `Hyrax` and `PyDAP` services using the `OpenDAP` protocol.\n",
    "\n",
    "From **outside** the docker environment those resources are reachable using the \"exposed\" services:\n",
    "\n",
    "* Apache: http://localhost/SN99938.nc \n",
    "* PyDAP:  http://localhost:9090/SN99938.nc\n",
    "* Hyrax:  http://localhost:8080/opendap/hyrax/SN99938.nc.nc4\n",
    "\n",
    "\n",
    "From **inside** the docker environment those resources are (should be) reachable using the \"internal service names\":\n",
    "\n",
    "* Apache: http://apache/SN99938.nc \n",
    "* PyDAP:  http://pydap/SN99938.nc\n",
    "* Hyrax:  http://hyrax:8080/opendap/hyrax/SN99938.nc.nc4"
   ]
  },
  {
   "cell_type": "markdown",
   "metadata": {
    "pycharm": {
     "name": "#%% md\n"
    }
   },
   "source": [
    "## **Test data access using the internal network service name**\n",
    "\n",
    "### **HTTP**"
   ]
  },
  {
   "cell_type": "code",
   "execution_count": null,
   "metadata": {},
   "outputs": [],
   "source": [
    "!wget http://apache/SN99938.nc "
   ]
  },
  {
   "cell_type": "code",
   "execution_count": null,
   "metadata": {},
   "outputs": [],
   "source": [
    "!wget http://hyrax:8080/opendap/hyrax/SN99938.nc.nc4"
   ]
  },
  {
   "cell_type": "code",
   "execution_count": null,
   "metadata": {},
   "outputs": [],
   "source": [
    "!wget http://pydap/SN99938.nc"
   ]
  },
  {
   "cell_type": "markdown",
   "metadata": {},
   "source": [
    "### **OpenDAP**"
   ]
  },
  {
   "cell_type": "code",
   "execution_count": null,
   "metadata": {
    "pycharm": {
     "name": "#%%\n"
    }
   },
   "outputs": [],
   "source": [
    "from pydap.client import open_url\n"
   ]
  },
  {
   "cell_type": "markdown",
   "metadata": {},
   "source": [
    "**Hyrax**"
   ]
  },
  {
   "cell_type": "code",
   "execution_count": null,
   "metadata": {
    "pycharm": {
     "name": "#%%\n"
    }
   },
   "outputs": [],
   "source": [
    "dataset = open_url('http://hyrax:8080/opendap/SN99938.nc')\n"
   ]
  },
  {
   "cell_type": "code",
   "execution_count": null,
   "metadata": {
    "pycharm": {
     "name": "#%%\n"
    }
   },
   "outputs": [],
   "source": [
    "dataset"
   ]
  },
  {
   "cell_type": "markdown",
   "metadata": {},
   "source": [
    "**Pydap**"
   ]
  },
  {
   "cell_type": "code",
   "execution_count": null,
   "metadata": {
    "pycharm": {
     "name": "#%%\n"
    }
   },
   "outputs": [],
   "source": [
    "dataset = open_url('http://pydap/SN99938.nc')"
   ]
  },
  {
   "cell_type": "markdown",
   "metadata": {
    "pycharm": {
     "name": "#%%\n"
    }
   },
   "source": [
    "## **Test data access using the local network**\n",
    "\n",
    "In order to have this to work inside a notebook, you need to **<u>replace the `localhost`</u>** with the local IP of your machine.\n",
    "\n",
    "### **HTTP**"
   ]
  },
  {
   "cell_type": "code",
   "execution_count": null,
   "metadata": {
    "pycharm": {
     "name": "#%%\n"
    }
   },
   "outputs": [],
   "source": [
    "localhost='172.18.0.1'"
   ]
  },
  {
   "cell_type": "markdown",
   "metadata": {},
   "source": [
    "**Apache**"
   ]
  },
  {
   "cell_type": "code",
   "execution_count": null,
   "metadata": {
    "pycharm": {
     "name": "#%%\n"
    }
   },
   "outputs": [],
   "source": [
    "!wget http://{localhost}/SN99938.nc "
   ]
  },
  {
   "cell_type": "markdown",
   "metadata": {},
   "source": [
    "**Hyrax**"
   ]
  },
  {
   "cell_type": "code",
   "execution_count": null,
   "metadata": {
    "pycharm": {
     "name": "#%%\n"
    }
   },
   "outputs": [],
   "source": [
    "!wget http://{localhost}:8080/opendap/hyrax/SN99938.nc.nc4"
   ]
  },
  {
   "cell_type": "markdown",
   "metadata": {},
   "source": [
    "**PyDAP**"
   ]
  },
  {
   "cell_type": "code",
   "execution_count": null,
   "metadata": {
    "pycharm": {
     "name": "#%%\n"
    }
   },
   "outputs": [],
   "source": [
    "!wget http://{localhost}/SN99938.nc"
   ]
  },
  {
   "cell_type": "markdown",
   "metadata": {
    "pycharm": {
     "name": "#%% md\n"
    }
   },
   "source": [
    "### **OpenDAP**"
   ]
  },
  {
   "cell_type": "markdown",
   "source": [
    "**Hyrax**"
   ],
   "metadata": {
    "collapsed": false
   }
  },
  {
   "cell_type": "code",
   "execution_count": null,
   "outputs": [],
   "source": [
    "dataset = open_url('http://hyrax:8080/opendap/SN99938.nc')\n"
   ],
   "metadata": {
    "collapsed": false,
    "pycharm": {
     "name": "#%%\n"
    }
   }
  },
  {
   "cell_type": "code",
   "execution_count": null,
   "outputs": [],
   "source": [
    "dataset"
   ],
   "metadata": {
    "collapsed": false,
    "pycharm": {
     "name": "#%%\n"
    }
   }
  },
  {
   "cell_type": "markdown",
   "source": [
    "**Pydap**"
   ],
   "metadata": {
    "collapsed": false
   }
  },
  {
   "cell_type": "code",
   "execution_count": null,
   "outputs": [],
   "source": [
    "dataset = open_url('http://pydap/SN99938.nc')"
   ],
   "metadata": {
    "collapsed": false,
    "pycharm": {
     "name": "#%%\n"
    }
   }
  },
  {
   "cell_type": "code",
   "execution_count": null,
   "outputs": [],
   "source": [
    "### **Test data access using the local network**\n",
    "\n",
    "**In order to have this to work inside a notebook, you need to <u>replace the `localhost` with the local IP of your machine.</u>**\n",
    "\n",
    "* **HTTP**"
   ],
   "metadata": {
    "collapsed": false,
    "pycharm": {
     "name": "#%%\n"
    }
   }
  },
  {
   "cell_type": "code",
   "execution_count": null,
   "outputs": [],
   "source": [
    "localhost='172.18.0.1'"
   ],
   "metadata": {
    "collapsed": false,
    "pycharm": {
     "name": "#%%\n"
    }
   }
  },
  {
   "cell_type": "markdown",
   "source": [
    "**Apache**"
   ],
   "metadata": {
    "collapsed": false
   }
  },
  {
   "cell_type": "code",
   "execution_count": null,
   "outputs": [],
   "source": [
    "!wget http://{localhost}/SN99938.nc "
   ],
   "metadata": {
    "collapsed": false,
    "pycharm": {
     "name": "#%%\n"
    }
   }
  },
  {
   "cell_type": "markdown",
   "source": [
    "**Hyrax**"
   ],
   "metadata": {
    "collapsed": false
   }
  },
  {
   "cell_type": "code",
   "execution_count": null,
   "outputs": [],
   "source": [
    "!wget http://{localhost}:8080/opendap/hyrax/SN99938.nc.nc4"
   ],
   "metadata": {
    "collapsed": false,
    "pycharm": {
     "name": "#%%\n"
    }
   }
  },
  {
   "cell_type": "markdown",
   "source": [
    "**PyDAP**"
   ],
   "metadata": {
    "collapsed": false
   }
  },
  {
   "cell_type": "code",
   "execution_count": null,
   "outputs": [],
   "source": [
    "!wget http://{localhost}/SN99938.nc"
   ],
   "metadata": {
    "collapsed": false,
    "pycharm": {
     "name": "#%%\n"
    }
   }
  },
  {
   "cell_type": "markdown",
   "metadata": {},
   "source": [
    "!wget http://{localhost}/SN99938.nc"
   ]
  },
  {
   "cell_type": "code",
   "execution_count": null,
   "metadata": {},
   "outputs": [],
   "source": [
    "dataset = open_url('http://hyrax:8080/opendap/SN99938.nc')\n"
   ]
  },
  {
   "cell_type": "code",
   "execution_count": null,
   "metadata": {},
   "outputs": [],
   "source": [
    "dataset"
   ]
  },
  {
   "cell_type": "markdown",
   "metadata": {},
   "source": [
    "**Pydap**"
   ]
  },
  {
   "cell_type": "code",
   "execution_count": null,
   "metadata": {
    "scrolled": false
   },
   "outputs": [],
   "source": [
    "dataset = open_url('http://pydap/SN99938.nc')"
   ]
  },
  {
   "cell_type": "markdown",
   "metadata": {
    "pycharm": {
     "name": "#%%\n"
    }
   },
   "source": [
    "### **Test data access using the local network**\n",
    "\n",
    "**In order to have this to work inside a notebook, you need to <u>replace the `localhost` with the local IP of your machine.</u>**\n",
    "\n",
    "* **HTTP**"
   ]
  },
  {
   "cell_type": "code",
   "execution_count": null,
   "metadata": {},
   "outputs": [],
   "source": [
    "localhost='172.18.0.1'"
   ]
  },
  {
   "cell_type": "markdown",
   "metadata": {},
   "source": [
    "**Apache**"
   ]
  },
  {
   "cell_type": "code",
   "execution_count": null,
   "metadata": {},
   "outputs": [],
   "source": [
    "!wget http://{localhost}/SN99938.nc "
   ]
  },
  {
   "cell_type": "markdown",
   "metadata": {},
   "source": [
    "**Hyrax**"
   ]
  },
  {
   "cell_type": "code",
   "execution_count": null,
   "metadata": {},
   "outputs": [],
   "source": [
    "!wget http://{localhost}:8080/opendap/hyrax/SN99938.nc.nc4"
   ]
  },
  {
   "cell_type": "markdown",
   "metadata": {},
   "source": [
    "**PyDAP**"
   ]
  },
  {
   "cell_type": "code",
   "execution_count": null,
   "metadata": {},
   "outputs": [],
   "source": [
    "!wget http://{localhost}/SN99938.nc"
   ]
  }
 ],
 "metadata": {
  "kernelspec": {
   "display_name": "Python 3",
   "language": "python",
   "name": "python3"
  },
  "language_info": {
   "codemirror_mode": {
    "name": "ipython",
    "version": 3
   },
   "file_extension": ".py",
   "mimetype": "text/x-python",
   "name": "python",
   "nbconvert_exporter": "python",
   "pygments_lexer": "ipython3",
   "version": "3.7.6"
  },
  "pycharm": {
   "stem_cell": {
    "cell_type": "raw",
    "source": [],
    "metadata": {
     "collapsed": false
    }
   }
  }
 },
 "nbformat": 4,
 "nbformat_minor": 2
}